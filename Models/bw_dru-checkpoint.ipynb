{
 "cells": [
  {
   "cell_type": "code",
   "execution_count": 1,
   "id": "bacd109a-b0bf-42ad-80bc-1f3ab4df802a",
   "metadata": {},
   "outputs": [
    {
     "name": "stdout",
     "output_type": "stream",
     "text": [
      "WARNING:tensorflow:From C:\\Users\\SHREYASH\\AppData\\Local\\Programs\\Python\\Python310\\lib\\site-packages\\keras\\src\\losses.py:2976: The name tf.losses.sparse_softmax_cross_entropy is deprecated. Please use tf.compat.v1.losses.sparse_softmax_cross_entropy instead.\n",
      "\n",
      "WARNING:tensorflow:From C:\\Users\\SHREYASH\\AppData\\Local\\Programs\\Python\\Python310\\lib\\site-packages\\keras\\src\\backend.py:1398: The name tf.executing_eagerly_outside_functions is deprecated. Please use tf.compat.v1.executing_eagerly_outside_functions instead.\n",
      "\n",
      "WARNING:tensorflow:From C:\\Users\\SHREYASH\\AppData\\Local\\Programs\\Python\\Python310\\lib\\site-packages\\keras\\src\\layers\\pooling\\max_pooling2d.py:161: The name tf.nn.max_pool is deprecated. Please use tf.nn.max_pool2d instead.\n",
      "\n",
      "Model: \"sequential\"\n",
      "_________________________________________________________________\n",
      " Layer (type)                Output Shape              Param #   \n",
      "=================================================================\n",
      " conv2d (Conv2D)             (None, 126, 126, 32)      320       \n",
      "                                                                 \n",
      " max_pooling2d (MaxPooling2  (None, 63, 63, 32)        0         \n",
      " D)                                                              \n",
      "                                                                 \n",
      " conv2d_1 (Conv2D)           (None, 61, 61, 32)        9248      \n",
      "                                                                 \n",
      " max_pooling2d_1 (MaxPoolin  (None, 30, 30, 32)        0         \n",
      " g2D)                                                            \n",
      "                                                                 \n",
      " conv2d_2 (Conv2D)           (None, 28, 28, 32)        9248      \n",
      "                                                                 \n",
      " max_pooling2d_2 (MaxPoolin  (None, 14, 14, 32)        0         \n",
      " g2D)                                                            \n",
      "                                                                 \n",
      " flatten (Flatten)           (None, 6272)              0         \n",
      "                                                                 \n",
      " dense (Dense)               (None, 128)               802944    \n",
      "                                                                 \n",
      " dropout (Dropout)           (None, 128)               0         \n",
      "                                                                 \n",
      " dense_1 (Dense)             (None, 96)                12384     \n",
      "                                                                 \n",
      " dropout_1 (Dropout)         (None, 96)                0         \n",
      "                                                                 \n",
      " dense_2 (Dense)             (None, 64)                6208      \n",
      "                                                                 \n",
      " dense_3 (Dense)             (None, 3)                 195       \n",
      "                                                                 \n",
      "=================================================================\n",
      "Total params: 840547 (3.21 MB)\n",
      "Trainable params: 840547 (3.21 MB)\n",
      "Non-trainable params: 0 (0.00 Byte)\n",
      "_________________________________________________________________\n"
     ]
    }
   ],
   "source": [
    "import tensorflow as tf\n",
    "from tensorflow.keras.models import Sequential\n",
    "from tensorflow.keras.layers import Conv2D, MaxPooling2D, Flatten, Dense, Dropout, Input\n",
    "from tensorflow.keras.preprocessing.image import ImageDataGenerator\n",
    "import os\n",
    "\n",
    "# Set up environment to use the GPU (if available)\n",
    "os.environ[\"CUDA_VISIBLE_DEVICES\"] = \"0\"  # Adjust to 1 or 0 based on your setup\n",
    "\n",
    "# Initialize the Sequential model for S, M, N classification\n",
    "model_bw_dru = Sequential([\n",
    "    # Use Input layer for input shape\n",
    "    Input(shape=(128, 128, 1)),  # Input shape for grayscale images (128x128)\n",
    "    \n",
    "    # First Conv2D and MaxPooling2D layer\n",
    "    Conv2D(32, (3, 3), activation='relu', padding='valid'),\n",
    "    MaxPooling2D((2, 2), padding='valid'),\n",
    "\n",
    "    # Second Conv2D and MaxPooling2D layer\n",
    "    Conv2D(32, (3, 3), activation='relu', padding='valid'),\n",
    "    MaxPooling2D((2, 2), padding='valid'),\n",
    "\n",
    "    # Third Conv2D and MaxPooling2D layer\n",
    "    Conv2D(32, (3, 3), activation='relu', padding='valid'),\n",
    "    MaxPooling2D((2, 2), padding='valid'),\n",
    "\n",
    "    # Flatten layer to convert 3D to 1D\n",
    "    Flatten(),\n",
    "\n",
    "    # Dense layers with Dropout for regularization\n",
    "    Dense(128, activation='relu'),\n",
    "    Dropout(0.4),\n",
    "    Dense(96, activation='relu'),\n",
    "    Dropout(0.4),\n",
    "    Dense(64, activation='relu'),\n",
    "\n",
    "    # Output layer with 3 units for classification (S, M, N)\n",
    "    Dense(3, activation='softmax')  # 3 output classes\n",
    "])\n",
    "\n",
    "# Summary of the model to check the structure\n",
    "model_bw_dru.summary()\n"
   ]
  },
  {
   "cell_type": "code",
   "execution_count": 10,
   "id": "6f1dc652-54e1-486f-bab3-d2880622a65c",
   "metadata": {},
   "outputs": [
    {
     "name": "stdout",
     "output_type": "stream",
     "text": [
      "Model architecture saved to 'model_bw_dru.json'.\n"
     ]
    },
    {
     "name": "stderr",
     "output_type": "stream",
     "text": [
      "WARNING:absl:You are saving your model as an HDF5 file via `model.save()` or `keras.saving.save_model(model)`. This file format is considered legacy. We recommend using instead the native Keras format, e.g. `model.save('my_model.keras')` or `keras.saving.save_model(model, 'my_model.keras')`. \n"
     ]
    },
    {
     "name": "stdout",
     "output_type": "stream",
     "text": [
      "Model weights saved to 'model_bw_dru.weights.h5'.\n",
      "Model saved as 'model_bw_dru.h5'.\n"
     ]
    }
   ],
   "source": []
  },
  {
   "cell_type": "code",
   "execution_count": 2,
   "id": "4061b34e-29d9-4c22-8149-e5b7b9fd1b77",
   "metadata": {},
   "outputs": [],
   "source": [
    "train_datagen = ImageDataGenerator(rescale=1./255,\n",
    "                                   shear_range=0.2,\n",
    "                                   zoom_range=0.2,\n",
    "                                   horizontal_flip=True)\n"
   ]
  },
  {
   "cell_type": "code",
   "execution_count": 3,
   "id": "c0ce0e62-eaab-4540-a2a6-840c003c0de8",
   "metadata": {},
   "outputs": [],
   "source": [
    "test_datagen = ImageDataGenerator(rescale = 1./255)"
   ]
  },
  {
   "cell_type": "code",
   "execution_count": 4,
   "id": "aa935072-2c4a-4ee3-9196-5c95e07bab6e",
   "metadata": {},
   "outputs": [],
   "source": [
    "train_data_dir =     r'C:\\Users\\SHREYASH\\Downloads\\Models\\Models\\zeeshan  asli prooject\\Sign Language to Text using CNN\\dataSet\\trainingData'\n",
    "test_data_dir =     r'C:\\Users\\SHREYASH\\Downloads\\Models\\Models\\zeeshan  asli prooject\\Sign Language to Text using CNN\\dataSet\\testingData',\n",
    "\n"
   ]
  },
  {
   "cell_type": "code",
   "execution_count": 5,
   "id": "2476c5bc-f19a-43a4-b876-02ceb202f5a8",
   "metadata": {},
   "outputs": [
    {
     "name": "stdout",
     "output_type": "stream",
     "text": [
      "Found 1401 images belonging to 3 classes.\n",
      "Found 465 images belonging to 3 classes.\n"
     ]
    }
   ],
   "source": [
    "train_set = train_datagen.flow_from_directory(    r'C:\\Users\\SHREYASH\\Downloads\\Models\\Models\\zeeshan  asli prooject\\Sign Language to Text using CNN\\dataSet\\trainingData',\n",
    "                                              target_size=(128, 128),\n",
    "                                              batch_size=32,\n",
    "                                              color_mode='grayscale',\n",
    "                                              class_mode='categorical',\n",
    "                                              classes=['D', 'R', 'U'])  # Specify the three classes\n",
    "\n",
    "test_set = test_datagen.flow_from_directory(    r'C:\\Users\\SHREYASH\\Downloads\\Models\\Models\\zeeshan  asli prooject\\Sign Language to Text using CNN\\dataSet\\testingData',\n",
    "                                            target_size=(128, 128),                                  \n",
    "                                            batch_size=10,        \n",
    "                                            color_mode='grayscale',\n",
    "                                            class_mode='categorical',\n",
    "                                            classes=['D', 'R', 'U'])  # Specify the three classes\n"
   ]
  },
  {
   "cell_type": "code",
   "execution_count": null,
   "id": "90c64e17-dea5-41b9-b84c-d4533b9bc8f7",
   "metadata": {},
   "outputs": [],
   "source": []
  },
  {
   "cell_type": "code",
   "execution_count": 6,
   "id": "749d30fc-54c7-45ff-bdca-c76a846504f6",
   "metadata": {},
   "outputs": [
    {
     "name": "stdout",
     "output_type": "stream",
     "text": [
      "WARNING:tensorflow:From C:\\Users\\SHREYASH\\AppData\\Local\\Programs\\Python\\Python310\\lib\\site-packages\\keras\\src\\optimizers\\__init__.py:309: The name tf.train.Optimizer is deprecated. Please use tf.compat.v1.train.Optimizer instead.\n",
      "\n"
     ]
    }
   ],
   "source": [
    "model_bw_dru.compile(optimizer='adam',\n",
    "                     loss='categorical_crossentropy',\n",
    "                     metrics=['accuracy'])"
   ]
  },
  {
   "cell_type": "code",
   "execution_count": null,
   "id": "e14ebb7c-8ffb-4bb0-8a51-460c38cda867",
   "metadata": {},
   "outputs": [
    {
     "name": "stdout",
     "output_type": "stream",
     "text": [
      "Epoch 1/5\n",
      "WARNING:tensorflow:From C:\\Users\\SHREYASH\\AppData\\Local\\Programs\\Python\\Python310\\lib\\site-packages\\keras\\src\\utils\\tf_utils.py:492: The name tf.ragged.RaggedTensorValue is deprecated. Please use tf.compat.v1.ragged.RaggedTensorValue instead.\n",
      "\n",
      "WARNING:tensorflow:From C:\\Users\\SHREYASH\\AppData\\Local\\Programs\\Python\\Python310\\lib\\site-packages\\keras\\src\\engine\\base_layer_utils.py:384: The name tf.executing_eagerly_outside_functions is deprecated. Please use tf.compat.v1.executing_eagerly_outside_functions instead.\n",
      "\n",
      "44/44 [==============================] - 45s 778ms/step - loss: 1.1017 - accuracy: 0.3333 - val_loss: 1.0984 - val_accuracy: 0.3376\n",
      "Epoch 2/5\n",
      "44/44 [==============================] - 29s 640ms/step - loss: 1.0986 - accuracy: 0.3547 - val_loss: 1.0831 - val_accuracy: 0.4473\n",
      "Epoch 3/5\n",
      "44/44 [==============================] - 34s 760ms/step - loss: 1.0316 - accuracy: 0.4611 - val_loss: 0.5705 - val_accuracy: 0.8043\n"
     ]
    }
   ],
   "source": [
    "model_bw_dru.fit(train_set,\n",
    "                 epochs=5,\n",
    "                 validation_data=test_set)"
   ]
  },
  {
   "cell_type": "code",
   "execution_count": 19,
   "id": "3163a1fa-45eb-4f60-ad72-9157cf628ca5",
   "metadata": {},
   "outputs": [
    {
     "ename": "NameError",
     "evalue": "name 'model' is not defined",
     "output_type": "error",
     "traceback": [
      "\u001b[1;31m---------------------------------------------------------------------------\u001b[0m",
      "\u001b[1;31mNameError\u001b[0m                                 Traceback (most recent call last)",
      "Cell \u001b[1;32mIn[19], line 2\u001b[0m\n\u001b[0;32m      1\u001b[0m \u001b[38;5;66;03m# Save the model architecture as a JSON file\u001b[39;00m\n\u001b[1;32m----> 2\u001b[0m model_json \u001b[38;5;241m=\u001b[39m \u001b[43mmodel\u001b[49m\u001b[38;5;241m-\u001b[39mbw_dru\u001b[38;5;241m.\u001b[39mto_json()\n\u001b[0;32m      3\u001b[0m \u001b[38;5;28;01mwith\u001b[39;00m \u001b[38;5;28mopen\u001b[39m(\u001b[38;5;124m\"\u001b[39m\u001b[38;5;124mmodel-bw_dru.json\u001b[39m\u001b[38;5;124m\"\u001b[39m, \u001b[38;5;124m\"\u001b[39m\u001b[38;5;124mw\u001b[39m\u001b[38;5;124m\"\u001b[39m) \u001b[38;5;28;01mas\u001b[39;00m json_file:\n\u001b[0;32m      4\u001b[0m     json_file\u001b[38;5;241m.\u001b[39mwrite(model_json)\n",
      "\u001b[1;31mNameError\u001b[0m: name 'model' is not defined"
     ]
    }
   ],
   "source": [
    "# Save the model architecture as a JSON file\n",
    "model_json = model-bw_dru.to_json()\n",
    "with open(\"model-bw_dru.json\", \"w\") as json_file:\n",
    "    json_file.write(model_json)\n",
    "print(\"Model architecture saved to 'model-bw_dru.json'.\")\n",
    "\n",
    "# Save the model weights\n",
    "model_bw_dru.save_weights(\"model-bw_dru.weights.h5\")\n",
    "print(\"Model weights saved to 'model-bw_dru.weights.h5'.\")\n",
    "\n",
    "# Optionally save the entire model (architecture + weights) in H5 format\n",
    "model_bw_dru.save(\"model-bw_dru.h5\")\n",
    "print(\"Model saved as 'model-bw_dru.h5'.\")\n"
   ]
  },
  {
   "cell_type": "code",
   "execution_count": null,
   "id": "f6921b08-f403-410a-b8e3-726e3a5104b7",
   "metadata": {},
   "outputs": [],
   "source": []
  }
 ],
 "metadata": {
  "kernelspec": {
   "display_name": "Python 3 (ipykernel)",
   "language": "python",
   "name": "python3"
  },
  "language_info": {
   "codemirror_mode": {
    "name": "ipython",
    "version": 3
   },
   "file_extension": ".py",
   "mimetype": "text/x-python",
   "name": "python",
   "nbconvert_exporter": "python",
   "pygments_lexer": "ipython3",
   "version": "3.10.11"
  }
 },
 "nbformat": 4,
 "nbformat_minor": 5
}
